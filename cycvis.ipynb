{
 "cells": [
  {
   "cell_type": "markdown",
   "metadata": {},
   "source": [
    "# CyclusVis\n",
    "Visualization of Agent positions and commodity transfer.\n",
    "\n",
    "Visualization of Cyclus simulation results as an interactive map.\n",
    "\n",
    "\n",
    "### Required Packages\n",
    "\n",
    "| Library            | Link                                                   |\n",
    "| ------------------ | ------------------------------------------------------ |\n",
    "| Matplotlib Basemap | https://matplotlib.org/basemap/                        |\n"
   ]
  },
  {
   "cell_type": "code",
   "execution_count": 1,
   "metadata": {
    "ExecuteTime": {
     "end_time": "2018-04-24T20:59:43.940524Z",
     "start_time": "2018-04-24T20:59:43.710322Z"
    }
   },
   "outputs": [
    {
     "name": "stdout",
     "output_type": "stream",
     "text": [
      "Using matplotlib backend: Qt5Agg\n"
     ]
    }
   ],
   "source": [
    "%load_ext autoreload\n",
    "%autoreload 2\n",
    "%matplotlib"
   ]
  },
  {
   "cell_type": "code",
   "execution_count": 2,
   "metadata": {
    "ExecuteTime": {
     "end_time": "2018-04-24T20:59:44.125913Z",
     "start_time": "2018-04-24T20:59:44.044398Z"
    }
   },
   "outputs": [],
   "source": [
    "import cycvis as cv"
   ]
  },
  {
   "cell_type": "code",
   "execution_count": 66,
   "metadata": {
    "ExecuteTime": {
     "end_time": "2018-04-24T23:29:40.105787Z",
     "start_time": "2018-04-24T23:29:33.199683Z"
    },
    "scrolled": true
   },
   "outputs": [],
   "source": [
    "cv.main('./united_states2.sqlite')"
   ]
  },
  {
   "cell_type": "code",
   "execution_count": 57,
   "metadata": {
    "ExecuteTime": {
     "end_time": "2018-04-24T23:17:41.539935Z",
     "start_time": "2018-04-24T23:17:41.455910Z"
    }
   },
   "outputs": [],
   "source": [
    "import numpy as np\n",
    "import matplotlib.pyplot as plt\n",
    "from matplotlib.widgets import CheckButtons\n",
    "from pprint import pprint\n",
    "\n",
    "t = np.arange(0.0, 2.0, 0.01)\n",
    "s0 = np.sin(2*np.pi*t)\n",
    "s1 = np.sin(4*np.pi*t)\n",
    "s2 = np.sin(6*np.pi*t)\n",
    "\n",
    "fig, ax = plt.subplots()\n",
    "l0, = ax.plot(t, s0, visible=False, lw=2)\n",
    "l1, = ax.plot(t, s1, lw=2)\n",
    "l2, = ax.plot(t, s2, lw=2)\n",
    "plt.subplots_adjust(left=0.2)\n",
    "\n",
    "rax = plt.axes([0.05, 0.4, 0.1, 0.15])\n",
    "check = CheckButtons(rax, ('2 Hz', '4 Hz', '6 Hz'), (False, True, True))\n",
    "\n",
    "\n",
    "def func(label, ax):\n",
    "    if label == '2 Hz':\n",
    "        l0.set_visible(not l0.get_visible())\n",
    "        print(printthis)\n",
    "    elif label == '4 Hz':\n",
    "        l1.set_visible(not l1.get_visible())\n",
    "    elif label == '6 Hz':\n",
    "        l2.set_visible(not l2.get_visible())\n",
    "    plt.draw()\n",
    "check.on_clicked(lambda event: func(event, ax))\n",
    "plt.show()"
   ]
  },
  {
   "cell_type": "code",
   "execution_count": 46,
   "metadata": {
    "ExecuteTime": {
     "end_time": "2018-04-24T23:01:48.770231Z",
     "start_time": "2018-04-24T23:01:48.705568Z"
    }
   },
   "outputs": [],
   "source": [
    "import numpy as np\n",
    "import matplotlib.pyplot as plt\n",
    "from matplotlib.widgets import Button\n",
    "\n",
    "freqs = np.arange(2, 20, 3)\n",
    "\n",
    "fig, ax = plt.subplots()\n",
    "plt.subplots_adjust(bottom=0.2)\n",
    "t = np.arange(0.0, 1.0, 0.001)\n",
    "s = np.sin(2*np.pi*freqs[0]*t)\n",
    "l, = plt.plot(t, s, lw=2)\n",
    "\n",
    "\n",
    "class Index(object):\n",
    "    ind = 0\n",
    "\n",
    "    def next(self, event):\n",
    "        self.ind += 1\n",
    "        i = self.ind % len(freqs)\n",
    "        ydata = np.sin(2*np.pi*freqs[i]*t)\n",
    "        l.set_ydata(ydata)\n",
    "        plt.draw()\n",
    "\n",
    "    def prev(self, event):\n",
    "        self.ind -= 1\n",
    "        i = self.ind % len(freqs)\n",
    "        ydata = np.sin(2*np.pi*freqs[i]*t)\n",
    "        l.set_ydata(ydata)\n",
    "        plt.draw()\n",
    "\n",
    "callback = Index()\n",
    "axprev = plt.axes([0.7, 0.05, 0.1, 0.075])\n",
    "axnext = plt.axes([0.81, 0.05, 0.1, 0.075])\n",
    "bnext = Button(axnext, 'Next')\n",
    "bnext.on_clicked(callback.next)\n",
    "bprev = Button(axprev, 'Previous')\n",
    "bprev.on_clicked(callback.prev)\n",
    "\n",
    "plt.show()"
   ]
  }
 ],
 "metadata": {
  "kernelspec": {
   "display_name": "Python 3",
   "language": "python",
   "name": "python3"
  },
  "language_info": {
   "codemirror_mode": {
    "name": "ipython",
    "version": 3
   },
   "file_extension": ".py",
   "mimetype": "text/x-python",
   "name": "python",
   "nbconvert_exporter": "python",
   "pygments_lexer": "ipython3",
   "version": "3.6.5"
  },
  "toc": {
   "nav_menu": {},
   "number_sections": true,
   "sideBar": true,
   "skip_h1_title": false,
   "title_cell": "Table of Contents",
   "title_sidebar": "Contents",
   "toc_cell": false,
   "toc_position": {},
   "toc_section_display": true,
   "toc_window_display": false
  },
  "varInspector": {
   "cols": {
    "lenName": 16,
    "lenType": 16,
    "lenVar": 40
   },
   "kernels_config": {
    "python": {
     "delete_cmd_postfix": "",
     "delete_cmd_prefix": "del ",
     "library": "var_list.py",
     "varRefreshCmd": "print(var_dic_list())"
    },
    "r": {
     "delete_cmd_postfix": ") ",
     "delete_cmd_prefix": "rm(",
     "library": "var_list.r",
     "varRefreshCmd": "cat(var_dic_list()) "
    }
   },
   "types_to_exclude": [
    "module",
    "function",
    "builtin_function_or_method",
    "instance",
    "_Feature"
   ],
   "window_display": false
  }
 },
 "nbformat": 4,
 "nbformat_minor": 2
}
