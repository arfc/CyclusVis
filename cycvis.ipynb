{
 "cells": [
  {
   "cell_type": "code",
   "execution_count": 29,
   "metadata": {},
   "outputs": [
    {
     "name": "stdout",
     "output_type": "stream",
     "text": [
      "The autoreload extension is already loaded. To reload it, use:\n",
      "  %reload_ext autoreload\n"
     ]
    }
   ],
   "source": [
    "%load_ext autoreload\n",
    "%autoreload 2\n",
    "%matplotlib inline"
   ]
  },
  {
   "cell_type": "code",
   "execution_count": 30,
   "metadata": {},
   "outputs": [],
   "source": [
    "from mpl_toolkits.basemap import Basemap\n",
    "import geopandas as gpd\n",
    "import sys\n",
    "\n",
    "sys.path.append('./scripts')\n",
    "import analysis as an"
   ]
  },
  {
   "cell_type": "code",
   "execution_count": 35,
   "metadata": {},
   "outputs": [
    {
     "name": "stdout",
     "output_type": "stream",
     "text": [
      "['HADDAM_NECK', 'SAN_ONOFRE-1', 'OYSTER_CREEK', 'NINE_MILE_POINT-1', 'DRESDEN-2', 'GINNA', 'POINT_BEACH-1', 'MILLSTONE-1', 'ROBINSON-2', 'MONTICELLO', 'DRESDEN-3', 'PALISADES', 'POINT_BEACH-2', 'TURKEY_POINT-3', 'VERMONT_YANKEE', 'PILGRIM-1', 'SURRY-1', 'MAINE_YANKEE', 'QUAD_CITIES-1', 'QUAD_CITIES-2', 'SURRY-2', 'OCONEE-1', 'TURKEY_POINT-4', 'FORT_CALHOUN-1', 'PRAIRIE_ISLAND-1', 'ZION-1', 'PEACH_BOTTOM-2', 'COOPER', 'KEWAUNEE', 'INDIAN_POINT-2', 'BROWNS_FERRY-1', 'OCONEE-2', 'THREE_MILE_ISLAND-1', 'ZION-2', 'OCONEE-3', 'PEACH_BOTTOM-3', 'ANO-1', 'PRAIRIE_ISLAND-2', 'DUANE_ARNOLD-1', 'BROWNS_FERRY-2', 'CALVERT_CLIFFS-1', 'RANCHO_SECO-1', 'FITZPATRICK', 'COOK-1', 'BRUNSWICK-2', 'HATCH-1', 'MILLSTONE-2', 'TROJAN', 'INDIAN_POINT-3', 'BEAVER_VALLEY-1', 'ST._LUCIE-1', 'BROWNS_FERRY-3', 'CRYSTAL_RIVER-3', 'CALVERT_CLIFFS-2', 'BRUNSWICK-1', 'SALEM-1', 'FARLEY-1', 'NORTH_ANNA-1', 'COOK-2', 'DAVIS_BESSE-1', 'THREE_MILE_ISLAND-2', 'HATCH-2', 'ANO-2', 'NORTH_ANNA-2', 'SEQUOYAH-1', 'FARLEY-2', 'SALEM-2', 'MCGUIRE-1', 'SEQUOYAH-2', 'SUSQUEHANNA-1', 'SAN_ONOFRE-2', 'ST._LUCIE-2', 'SUMMER-1', 'LASALLE-1', 'MCGUIRE-2', 'SAN_ONOFRE-3', 'LASALLE-2', 'COLUMBIA', 'CALLAWAY-1', 'SUSQUEHANNA-2', 'DIABLO_CANYON-1', 'CATAWBA-1', 'GRAND_GULF-1', 'WOLF_CREEK', 'WATERFORD-3', 'BYRON-1', 'LIMERICK-1', 'PALO_VERDE-1', 'DIABLO_CANYON-2', 'MILLSTONE-3', 'RIVER_BEND-1', 'CATAWBA-2', 'PALO_VERDE-2', 'HOPE_CREEK-1', 'HARRIS-1', 'VOGTLE-1', 'BYRON-2', 'BEAVER_VALLEY-2', 'PERRY-1', 'CLINTON-1', 'PALO_VERDE-3', 'FERMI-2', 'NINE_MILE_POINT-2', 'BRAIDWOOD-1', 'SOUTH_TEXAS-1', 'BRAIDWOOD-2', 'VOGTLE-2', 'SOUTH_TEXAS-2', 'LIMERICK-2', 'COMANCHE_PEAK-1', 'SEABROOK-1', 'COMANCHE_PEAK-2', 'WATTS_BAR-1']\n",
      "[]\n"
     ]
    },
    {
     "data": {
      "text/html": [
       "<div>\n",
       "<style scoped>\n",
       "    .dataframe tbody tr th:only-of-type {\n",
       "        vertical-align: middle;\n",
       "    }\n",
       "\n",
       "    .dataframe tbody tr th {\n",
       "        vertical-align: top;\n",
       "    }\n",
       "\n",
       "    .dataframe thead th {\n",
       "        text-align: right;\n",
       "    }\n",
       "</style>\n",
       "<table border=\"1\" class=\"dataframe\">\n",
       "  <thead>\n",
       "    <tr style=\"text-align: right;\">\n",
       "      <th></th>\n",
       "      <th>agentid</th>\n",
       "      <th>geometry</th>\n",
       "      <th>prototype</th>\n",
       "      <th>spec</th>\n",
       "    </tr>\n",
       "  </thead>\n",
       "  <tbody>\n",
       "  </tbody>\n",
       "</table>\n",
       "</div>"
      ],
      "text/plain": [
       "Empty GeoDataFrame\n",
       "Columns: [agentid, geometry, prototype, spec]\n",
       "Index: []"
      ]
     },
     "execution_count": 35,
     "metadata": {},
     "output_type": "execute_result"
    }
   ],
   "source": [
    "cur = an.get_cursor('./UNITED_STATES.sqlite')\n",
    "\n",
    "# an.plot_agents(cur)\n",
    "an.archetype_dataframe(cur, 'reactor')\n",
    "# an.available_archetypes(cur)"
   ]
  },
  {
   "cell_type": "code",
   "execution_count": null,
   "metadata": {},
   "outputs": [],
   "source": []
  }
 ],
 "metadata": {
  "kernelspec": {
   "display_name": "Python 3",
   "language": "python",
   "name": "python3"
  },
  "language_info": {
   "codemirror_mode": {
    "name": "ipython",
    "version": 3
   },
   "file_extension": ".py",
   "mimetype": "text/x-python",
   "name": "python",
   "nbconvert_exporter": "python",
   "pygments_lexer": "ipython3",
   "version": "3.6.4"
  },
  "varInspector": {
   "cols": {
    "lenName": 16,
    "lenType": 16,
    "lenVar": 40
   },
   "kernels_config": {
    "python": {
     "delete_cmd_postfix": "",
     "delete_cmd_prefix": "del ",
     "library": "var_list.py",
     "varRefreshCmd": "print(var_dic_list())"
    },
    "r": {
     "delete_cmd_postfix": ") ",
     "delete_cmd_prefix": "rm(",
     "library": "var_list.r",
     "varRefreshCmd": "cat(var_dic_list()) "
    }
   },
   "types_to_exclude": [
    "module",
    "function",
    "builtin_function_or_method",
    "instance",
    "_Feature"
   ],
   "window_display": false
  }
 },
 "nbformat": 4,
 "nbformat_minor": 2
}
